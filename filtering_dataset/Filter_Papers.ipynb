{
 "cells": [
  {
   "cell_type": "markdown",
   "id": "a278153d",
   "metadata": {},
   "source": [
    "###  Filtering Scientific Papers Based on Specific Keywords in Title or Abstract - final "
   ]
  },
  {
   "cell_type": "markdown",
   "id": "11a08600",
   "metadata": {},
   "source": [
    "##### inlcuding regex: Replaces \\n and \\r with spaces for matching purposes."
   ]
  },
  {
   "cell_type": "code",
   "execution_count": 18,
   "id": "b9c4cd0f",
   "metadata": {},
   "outputs": [
    {
     "name": "stdout",
     "output_type": "stream",
     "text": [
      "Filtered 1155 papers mentioning the keywords.\n"
     ]
    }
   ],
   "source": [
    "import json\n",
    "import re\n",
    "\n",
    "\"\"\"\n",
    "    This Python script filters scientific papers from a JSON dataset based on the presence of specified \n",
    "    keywords in either the title or abstract. The filtering is performed using regular expressions for \n",
    "    efficient matching. The filtered papers are then exported to a new JSON file for further analysis.\n",
    "\"\"\"\n",
    "#keywords to filter the papers.\n",
    "keywords = [\n",
    "    \"llm\", \"llms\", \"language model\", \"large language\", \"chatgpt\", \"llama\", \"openai\", \"gpt\",\n",
    "    \"large-scale pre-trained language\", \"large-scale languag\", \"deepmind\", \"bert\", \"few shot learning\", \n",
    "    \"zero shot learning\", \"t5\"\n",
    "]\n",
    "#regex\n",
    "keyword_pattern = re.compile(r'\\b(?:' + '|'.join(map(re.escape, keywords)) + r')\\b', re.IGNORECASE)\n",
    "with open('data_collected_Jan2022-July2022.json', encoding='utf-8') as f:\n",
    "    papers = json.load(f)\n",
    "\n",
    "def normalize_text(text):\n",
    "    return text.replace('\\n', ' ').replace('\\r', ' ').strip()\n",
    "filtered_papers = [\n",
    "    paper for paper in papers\n",
    "    if keyword_pattern.search(normalize_text(paper.get('title', '') + ' ' + normalize_text(paper.get('summary', ''))))\n",
    "]\n",
    "with open('data_collected_Jan2022-July2022_filtered.json', 'w', encoding='utf-8') as f:\n",
    "    json.dump(filtered_papers, f, indent=4)\n",
    "print(f\"Filtered {len(filtered_papers)} papers mentioning the keywords.\")\n"
   ]
  },
  {
   "cell_type": "markdown",
   "id": "44b26698",
   "metadata": {},
   "source": [
    "###### Making sure that there are multiple keywords to reduce the False Positives"
   ]
  },
  {
   "cell_type": "code",
   "execution_count": 4,
   "id": "678afbf7",
   "metadata": {},
   "outputs": [
    {
     "name": "stdout",
     "output_type": "stream",
     "text": [
      "Filtered 271 papers mentioning the keywords.\n"
     ]
    }
   ],
   "source": [
    "import json\n",
    "import re\n",
    "import os\n",
    "\n",
    "\"\"\"\n",
    "    This Python script filters scientific papers from a JSON dataset based on the presence of specified \n",
    "    keywords in either the title or abstract. The filtering is performed using regular expressions for \n",
    "    efficient matching. The filtered papers are then exported to a new JSON file for further analysis.\n",
    "\"\"\"\n",
    "keywords = [\n",
    "    \"llm\", \"llms\", \"large language model\", \"large language models\", \"chatgpt\", \"llama\", \"openai\", \"gpt\",\n",
    "    \"large-scale pre-trained language model\", \"large-scale pre-trained language models\", \"large-scale language model\", \n",
    "    \"large-scale language models\", \"deepmind\", \"bert\", \"few-shot learning\", \"zero-shot learning\", \"t5\", \n",
    "    \"transformer model\", \"transformer models\", \"roberta\", \"xlm\", \"generative model\", \"generative models\"\n",
    "]\n",
    "keyword_pattern = re.compile(r'\\b(?:' + '|'.join(map(re.escape, keywords)) + r')\\b', re.IGNORECASE)\n",
    "input_path = os.path.expanduser('~/Master Thesis Draft/acl_data/naacl2024.json')\n",
    "output_path = os.path.expanduser('~/Master Thesis Draft/acl_data/naacl2024_filtered.json')\n",
    "with open(input_path, encoding='utf-8') as f:\n",
    "    papers = json.load(f)\n",
    "def normalize_text(text):\n",
    "    return text.replace('\\n', ' ').replace('\\r', ' ').strip()\n",
    "def filter_papers_by_keywords(papers, keyword_pattern):\n",
    "    filtered_papers = []\n",
    "    for paper in papers:\n",
    "        title = normalize_text(paper.get('title', ''))\n",
    "        summary = normalize_text(paper.get('summary', ''))\n",
    "        matches_in_title = keyword_pattern.findall(title)\n",
    "        matches_in_summary = keyword_pattern.findall(summary)\n",
    "\n",
    "        if len(matches_in_title) + len(matches_in_summary) >= 2:\n",
    "            filtered_papers.append(paper)\n",
    "    \n",
    "    return filtered_papers\n",
    "filtered_papers = filter_papers_by_keywords(papers, keyword_pattern)\n",
    "with open(output_path, 'w', encoding='utf-8') as f:\n",
    "    json.dump(filtered_papers, f, ensure_ascii=False, indent=4)\n",
    "\n",
    "print(f\"Filtered {len(filtered_papers)} papers mentioning the keywords.\")\n"
   ]
  },
  {
   "cell_type": "code",
   "execution_count": null,
   "id": "02f84bca",
   "metadata": {},
   "outputs": [],
   "source": []
  }
 ],
 "metadata": {
  "kernelspec": {
   "display_name": "Python 3 (ipykernel)",
   "language": "python",
   "name": "python3"
  },
  "language_info": {
   "codemirror_mode": {
    "name": "ipython",
    "version": 3
   },
   "file_extension": ".py",
   "mimetype": "text/x-python",
   "name": "python",
   "nbconvert_exporter": "python",
   "pygments_lexer": "ipython3",
   "version": "3.9.7"
  }
 },
 "nbformat": 4,
 "nbformat_minor": 5
}
